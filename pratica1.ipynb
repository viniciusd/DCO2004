{
 "cells": [
  {
   "cell_type": "markdown",
   "metadata": {},
   "source": [
    "# Exercício da prática 1"
   ]
  },
  {
   "cell_type": "markdown",
   "metadata": {},
   "source": [
    "**O Processo de modulação explora os três parâmetros da senoide portadora:**\n",
    "\n",
    "*Amplitude, Frequência e Fase*\n",
    "\n",
    "[Modulação em amplitude](https://pt.wikipedia.org/wiki/Modula%C3%A7%C3%A3o_em_amplitude)\n",
    "![fig_figura](https://upload.wikimedia.org/wikipedia/commons/thumb/d/d5/Amplitude-modulation.png/250px-Amplitude-modulation.png)"
   ]
  },
  {
   "cell_type": "code",
   "execution_count": 2,
   "metadata": {},
   "outputs": [
    {
     "name": "stdout",
     "output_type": "stream",
     "text": [
      "Escolha a primeira variável1\n",
      "Escolha a segunda variável2\n",
      "A soma das variáveis é: 3\n"
     ]
    }
   ],
   "source": [
    "a = int(input(\"Escolha a primeira variável \"))\n",
    "b = int(input(\"Escolha a segunda variável \"))\n",
    "print(\"A soma das variáveis é:\", a+b)"
   ]
  },
  {
   "cell_type": "raw",
   "metadata": {},
   "source": [
    "Espero que tenham praticado o básico sobre o Jupyter Notebook."
   ]
  },
  {
   "cell_type": "code",
   "execution_count": null,
   "metadata": {
    "collapsed": true
   },
   "outputs": [],
   "source": []
  }
 ],
 "metadata": {
  "kernelspec": {
   "display_name": "Python 3",
   "language": "python",
   "name": "python3"
  },
  "language_info": {
   "codemirror_mode": {
    "name": "ipython",
    "version": 3
   },
   "file_extension": ".py",
   "mimetype": "text/x-python",
   "name": "python",
   "nbconvert_exporter": "python",
   "pygments_lexer": "ipython3",
   "version": "3.4.5"
  }
 },
 "nbformat": 4,
 "nbformat_minor": 2
}
